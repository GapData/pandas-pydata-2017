{
 "cells": [
  {
   "cell_type": "markdown",
   "metadata": {},
   "source": [
    "# Reading and writing data across multiple formats"
   ]
  },
  {
   "cell_type": "markdown",
   "metadata": {},
   "source": [
    "A practical introduction."
   ]
  },
  {
   "cell_type": "code",
   "execution_count": 20,
   "metadata": {
    "collapsed": true
   },
   "outputs": [],
   "source": [
    "import pandas as pd"
   ]
  },
  {
   "cell_type": "markdown",
   "metadata": {},
   "source": [
    "*import as pd* is a widely used convention\n",
    "\n",
    "in our data directory we have some files stored from the Blooth store, lets import one!"
   ]
  },
  {
   "cell_type": "code",
   "execution_count": 21,
   "metadata": {},
   "outputs": [
    {
     "name": "stdout",
     "output_type": "stream",
     "text": [
      "/Users/hendorf/code/pandas-pydata-berlin-2017/notebooks\r\n"
     ]
    }
   ],
   "source": [
    "!pwd"
   ]
  },
  {
   "cell_type": "code",
   "execution_count": 22,
   "metadata": {},
   "outputs": [],
   "source": [
    "sales_data = pd.read_csv('../data/blooth_sales_data.csv')"
   ]
  },
  {
   "cell_type": "markdown",
   "metadata": {},
   "source": [
    "### Let's explore our data set"
   ]
  },
  {
   "cell_type": "code",
   "execution_count": 51,
   "metadata": {
    "scrolled": false
   },
   "outputs": [
    {
     "data": {
      "text/html": [
       "<div>\n",
       "<style>\n",
       "    .dataframe thead tr:only-child th {\n",
       "        text-align: right;\n",
       "    }\n",
       "\n",
       "    .dataframe thead th {\n",
       "        text-align: left;\n",
       "    }\n",
       "\n",
       "    .dataframe tbody tr th {\n",
       "        vertical-align: top;\n",
       "    }\n",
       "</style>\n",
       "<table border=\"1\" class=\"dataframe\">\n",
       "  <thead>\n",
       "    <tr style=\"text-align: right;\">\n",
       "      <th></th>\n",
       "      <th>name</th>\n",
       "      <th>birthday</th>\n",
       "      <th>customer</th>\n",
       "      <th>orderdate</th>\n",
       "      <th>product</th>\n",
       "      <th>units</th>\n",
       "      <th>unitprice</th>\n",
       "    </tr>\n",
       "  </thead>\n",
       "  <tbody>\n",
       "    <tr>\n",
       "      <th>0</th>\n",
       "      <td>Mohamed</td>\n",
       "      <td>1978-03-15</td>\n",
       "      <td>Federated North Corporation</td>\n",
       "      <td>2016-07-05 10:33:46.009401</td>\n",
       "      <td>banana</td>\n",
       "      <td>10</td>\n",
       "      <td>10.00</td>\n",
       "    </tr>\n",
       "    <tr>\n",
       "      <th>1</th>\n",
       "      <td>Kim</td>\n",
       "      <td>1986-01-05</td>\n",
       "      <td>Star Application Agency</td>\n",
       "      <td>2016-07-15 10:33:46.009447</td>\n",
       "      <td>Rubik’s Cube</td>\n",
       "      <td>5</td>\n",
       "      <td>16.44</td>\n",
       "    </tr>\n",
       "    <tr>\n",
       "      <th>2</th>\n",
       "      <td>Chester</td>\n",
       "      <td>1967-05-24</td>\n",
       "      <td>Hardware Industries</td>\n",
       "      <td>2016-07-25 10:33:46.009479</td>\n",
       "      <td>iPad</td>\n",
       "      <td>48</td>\n",
       "      <td>865.62</td>\n",
       "    </tr>\n",
       "    <tr>\n",
       "      <th>3</th>\n",
       "      <td>Boyce</td>\n",
       "      <td>1980-11-12</td>\n",
       "      <td>Bell Building Co</td>\n",
       "      <td>2016-07-06 10:33:46.009507</td>\n",
       "      <td>Harry Potter book</td>\n",
       "      <td>44</td>\n",
       "      <td>18.54</td>\n",
       "    </tr>\n",
       "    <tr>\n",
       "      <th>4</th>\n",
       "      <td>Wilma</td>\n",
       "      <td>1953-12-24</td>\n",
       "      <td>Net Electronic Consulting Limited</td>\n",
       "      <td>2016-07-09 10:33:46.009537</td>\n",
       "      <td>iPad</td>\n",
       "      <td>40</td>\n",
       "      <td>772.63</td>\n",
       "    </tr>\n",
       "    <tr>\n",
       "      <th>...</th>\n",
       "      <td>...</td>\n",
       "      <td>...</td>\n",
       "      <td>...</td>\n",
       "      <td>...</td>\n",
       "      <td>...</td>\n",
       "      <td>...</td>\n",
       "      <td>...</td>\n",
       "    </tr>\n",
       "    <tr>\n",
       "      <th>995</th>\n",
       "      <td>Tory</td>\n",
       "      <td>1969-11-23</td>\n",
       "      <td>Venture Limited</td>\n",
       "      <td>2016-07-10 10:33:46.036736</td>\n",
       "      <td>Lipitor</td>\n",
       "      <td>49</td>\n",
       "      <td>10.78</td>\n",
       "    </tr>\n",
       "    <tr>\n",
       "      <th>996</th>\n",
       "      <td>Randolph</td>\n",
       "      <td>1987-01-09</td>\n",
       "      <td>Hill Omega Data Industries</td>\n",
       "      <td>2016-07-23 10:33:46.036760</td>\n",
       "      <td>iPad</td>\n",
       "      <td>43</td>\n",
       "      <td>404.96</td>\n",
       "    </tr>\n",
       "    <tr>\n",
       "      <th>997</th>\n",
       "      <td>Lawrence</td>\n",
       "      <td>1979-12-11</td>\n",
       "      <td>Internet Innovation Provider Inc</td>\n",
       "      <td>2016-07-09 10:33:46.036783</td>\n",
       "      <td>Lipitor</td>\n",
       "      <td>9</td>\n",
       "      <td>10.90</td>\n",
       "    </tr>\n",
       "    <tr>\n",
       "      <th>998</th>\n",
       "      <td>Ward</td>\n",
       "      <td>1980-12-04</td>\n",
       "      <td>Solutions Group</td>\n",
       "      <td>2016-07-18 10:33:46.036807</td>\n",
       "      <td>Corolla</td>\n",
       "      <td>28</td>\n",
       "      <td>21155.09</td>\n",
       "    </tr>\n",
       "    <tr>\n",
       "      <th>999</th>\n",
       "      <td>Jonnie</td>\n",
       "      <td>1981-03-02</td>\n",
       "      <td>Design Hill Corporation</td>\n",
       "      <td>2016-07-03 10:33:46.036831</td>\n",
       "      <td>iPad</td>\n",
       "      <td>42</td>\n",
       "      <td>570.57</td>\n",
       "    </tr>\n",
       "  </tbody>\n",
       "</table>\n",
       "<p>1000 rows × 7 columns</p>\n",
       "</div>"
      ],
      "text/plain": [
       "         name   birthday                           customer  \\\n",
       "0     Mohamed 1978-03-15        Federated North Corporation   \n",
       "1         Kim 1986-01-05            Star Application Agency   \n",
       "2     Chester 1967-05-24                Hardware Industries   \n",
       "3       Boyce 1980-11-12                   Bell Building Co   \n",
       "4       Wilma 1953-12-24  Net Electronic Consulting Limited   \n",
       "..        ...        ...                                ...   \n",
       "995      Tory 1969-11-23                    Venture Limited   \n",
       "996  Randolph 1987-01-09         Hill Omega Data Industries   \n",
       "997  Lawrence 1979-12-11   Internet Innovation Provider Inc   \n",
       "998      Ward 1980-12-04                    Solutions Group   \n",
       "999    Jonnie 1981-03-02            Design Hill Corporation   \n",
       "\n",
       "                     orderdate            product  units  unitprice  \n",
       "0   2016-07-05 10:33:46.009401             banana     10      10.00  \n",
       "1   2016-07-15 10:33:46.009447       Rubik’s Cube      5      16.44  \n",
       "2   2016-07-25 10:33:46.009479               iPad     48     865.62  \n",
       "3   2016-07-06 10:33:46.009507  Harry Potter book     44      18.54  \n",
       "4   2016-07-09 10:33:46.009537               iPad     40     772.63  \n",
       "..                         ...                ...    ...        ...  \n",
       "995 2016-07-10 10:33:46.036736            Lipitor     49      10.78  \n",
       "996 2016-07-23 10:33:46.036760               iPad     43     404.96  \n",
       "997 2016-07-09 10:33:46.036783            Lipitor      9      10.90  \n",
       "998 2016-07-18 10:33:46.036807            Corolla     28   21155.09  \n",
       "999 2016-07-03 10:33:46.036831               iPad     42     570.57  \n",
       "\n",
       "[1000 rows x 7 columns]"
      ]
     },
     "execution_count": 51,
     "metadata": {},
     "output_type": "execute_result"
    }
   ],
   "source": [
    "#pd.set_option('display.max_rows', 10)\n",
    "sales_data"
   ]
  },
  {
   "cell_type": "code",
   "execution_count": 52,
   "metadata": {
    "collapsed": true
   },
   "outputs": [],
   "source": [
    "pd.reset_option('display.max_rows')"
   ]
  },
  {
   "cell_type": "code",
   "execution_count": 24,
   "metadata": {},
   "outputs": [
    {
     "data": {
      "text/plain": [
       "pandas.core.frame.DataFrame"
      ]
     },
     "execution_count": 24,
     "metadata": {},
     "output_type": "execute_result"
    }
   ],
   "source": [
    "type(sales_data)"
   ]
  },
  {
   "cell_type": "code",
   "execution_count": 25,
   "metadata": {},
   "outputs": [
    {
     "data": {
      "text/plain": [
       "1000"
      ]
     },
     "execution_count": 25,
     "metadata": {},
     "output_type": "execute_result"
    }
   ],
   "source": [
    "len(sales_data)"
   ]
  },
  {
   "cell_type": "code",
   "execution_count": 26,
   "metadata": {},
   "outputs": [
    {
     "data": {
      "text/html": [
       "<div>\n",
       "<style>\n",
       "    .dataframe thead tr:only-child th {\n",
       "        text-align: right;\n",
       "    }\n",
       "\n",
       "    .dataframe thead th {\n",
       "        text-align: left;\n",
       "    }\n",
       "\n",
       "    .dataframe tbody tr th {\n",
       "        vertical-align: top;\n",
       "    }\n",
       "</style>\n",
       "<table border=\"1\" class=\"dataframe\">\n",
       "  <thead>\n",
       "    <tr style=\"text-align: right;\">\n",
       "      <th></th>\n",
       "      <th>name</th>\n",
       "      <th>birthday</th>\n",
       "      <th>customer</th>\n",
       "      <th>orderdate</th>\n",
       "      <th>product</th>\n",
       "      <th>units</th>\n",
       "      <th>unitprice</th>\n",
       "    </tr>\n",
       "  </thead>\n",
       "  <tbody>\n",
       "    <tr>\n",
       "      <th>0</th>\n",
       "      <td>Mohamed</td>\n",
       "      <td>1978-03-15</td>\n",
       "      <td>Federated North Corporation</td>\n",
       "      <td>2016-07-05 10:33:46.009401</td>\n",
       "      <td>banana</td>\n",
       "      <td>10</td>\n",
       "      <td>10.00</td>\n",
       "    </tr>\n",
       "    <tr>\n",
       "      <th>1</th>\n",
       "      <td>Kim</td>\n",
       "      <td>1986-01-05</td>\n",
       "      <td>Star Application Agency</td>\n",
       "      <td>2016-07-15 10:33:46.009447</td>\n",
       "      <td>Rubik’s Cube</td>\n",
       "      <td>5</td>\n",
       "      <td>16.44</td>\n",
       "    </tr>\n",
       "    <tr>\n",
       "      <th>2</th>\n",
       "      <td>Chester</td>\n",
       "      <td>1967-05-24</td>\n",
       "      <td>Hardware Industries</td>\n",
       "      <td>2016-07-25 10:33:46.009479</td>\n",
       "      <td>iPad</td>\n",
       "      <td>48</td>\n",
       "      <td>865.62</td>\n",
       "    </tr>\n",
       "    <tr>\n",
       "      <th>3</th>\n",
       "      <td>Boyce</td>\n",
       "      <td>1980-11-12</td>\n",
       "      <td>Bell Building Co</td>\n",
       "      <td>2016-07-06 10:33:46.009507</td>\n",
       "      <td>Harry Potter book</td>\n",
       "      <td>44</td>\n",
       "      <td>18.54</td>\n",
       "    </tr>\n",
       "    <tr>\n",
       "      <th>4</th>\n",
       "      <td>Wilma</td>\n",
       "      <td>1953-12-24</td>\n",
       "      <td>Net Electronic Consulting Limited</td>\n",
       "      <td>2016-07-09 10:33:46.009537</td>\n",
       "      <td>iPad</td>\n",
       "      <td>40</td>\n",
       "      <td>772.63</td>\n",
       "    </tr>\n",
       "  </tbody>\n",
       "</table>\n",
       "</div>"
      ],
      "text/plain": [
       "      name    birthday                           customer  \\\n",
       "0  Mohamed  1978-03-15        Federated North Corporation   \n",
       "1      Kim  1986-01-05            Star Application Agency   \n",
       "2  Chester  1967-05-24                Hardware Industries   \n",
       "3    Boyce  1980-11-12                   Bell Building Co   \n",
       "4    Wilma  1953-12-24  Net Electronic Consulting Limited   \n",
       "\n",
       "                    orderdate            product  units  unitprice  \n",
       "0  2016-07-05 10:33:46.009401             banana     10      10.00  \n",
       "1  2016-07-15 10:33:46.009447       Rubik’s Cube      5      16.44  \n",
       "2  2016-07-25 10:33:46.009479               iPad     48     865.62  \n",
       "3  2016-07-06 10:33:46.009507  Harry Potter book     44      18.54  \n",
       "4  2016-07-09 10:33:46.009537               iPad     40     772.63  "
      ]
     },
     "execution_count": 26,
     "metadata": {},
     "output_type": "execute_result"
    }
   ],
   "source": [
    "sales_data.head(5)"
   ]
  },
  {
   "cell_type": "code",
   "execution_count": 27,
   "metadata": {},
   "outputs": [
    {
     "data": {
      "text/html": [
       "<div>\n",
       "<style>\n",
       "    .dataframe thead tr:only-child th {\n",
       "        text-align: right;\n",
       "    }\n",
       "\n",
       "    .dataframe thead th {\n",
       "        text-align: left;\n",
       "    }\n",
       "\n",
       "    .dataframe tbody tr th {\n",
       "        vertical-align: top;\n",
       "    }\n",
       "</style>\n",
       "<table border=\"1\" class=\"dataframe\">\n",
       "  <thead>\n",
       "    <tr style=\"text-align: right;\">\n",
       "      <th></th>\n",
       "      <th>name</th>\n",
       "      <th>birthday</th>\n",
       "      <th>customer</th>\n",
       "      <th>orderdate</th>\n",
       "      <th>product</th>\n",
       "      <th>units</th>\n",
       "      <th>unitprice</th>\n",
       "    </tr>\n",
       "  </thead>\n",
       "  <tbody>\n",
       "    <tr>\n",
       "      <th>995</th>\n",
       "      <td>Tory</td>\n",
       "      <td>1969-11-23</td>\n",
       "      <td>Venture Limited</td>\n",
       "      <td>2016-07-10 10:33:46.036736</td>\n",
       "      <td>Lipitor</td>\n",
       "      <td>49</td>\n",
       "      <td>10.78</td>\n",
       "    </tr>\n",
       "    <tr>\n",
       "      <th>996</th>\n",
       "      <td>Randolph</td>\n",
       "      <td>1987-01-09</td>\n",
       "      <td>Hill Omega Data Industries</td>\n",
       "      <td>2016-07-23 10:33:46.036760</td>\n",
       "      <td>iPad</td>\n",
       "      <td>43</td>\n",
       "      <td>404.96</td>\n",
       "    </tr>\n",
       "    <tr>\n",
       "      <th>997</th>\n",
       "      <td>Lawrence</td>\n",
       "      <td>1979-12-11</td>\n",
       "      <td>Internet Innovation Provider Inc</td>\n",
       "      <td>2016-07-09 10:33:46.036783</td>\n",
       "      <td>Lipitor</td>\n",
       "      <td>9</td>\n",
       "      <td>10.90</td>\n",
       "    </tr>\n",
       "    <tr>\n",
       "      <th>998</th>\n",
       "      <td>Ward</td>\n",
       "      <td>1980-12-04</td>\n",
       "      <td>Solutions Group</td>\n",
       "      <td>2016-07-18 10:33:46.036807</td>\n",
       "      <td>Corolla</td>\n",
       "      <td>28</td>\n",
       "      <td>21155.09</td>\n",
       "    </tr>\n",
       "    <tr>\n",
       "      <th>999</th>\n",
       "      <td>Jonnie</td>\n",
       "      <td>1981-03-02</td>\n",
       "      <td>Design Hill Corporation</td>\n",
       "      <td>2016-07-03 10:33:46.036831</td>\n",
       "      <td>iPad</td>\n",
       "      <td>42</td>\n",
       "      <td>570.57</td>\n",
       "    </tr>\n",
       "  </tbody>\n",
       "</table>\n",
       "</div>"
      ],
      "text/plain": [
       "         name    birthday                          customer  \\\n",
       "995      Tory  1969-11-23                   Venture Limited   \n",
       "996  Randolph  1987-01-09        Hill Omega Data Industries   \n",
       "997  Lawrence  1979-12-11  Internet Innovation Provider Inc   \n",
       "998      Ward  1980-12-04                   Solutions Group   \n",
       "999    Jonnie  1981-03-02           Design Hill Corporation   \n",
       "\n",
       "                      orderdate  product  units  unitprice  \n",
       "995  2016-07-10 10:33:46.036736  Lipitor     49      10.78  \n",
       "996  2016-07-23 10:33:46.036760     iPad     43     404.96  \n",
       "997  2016-07-09 10:33:46.036783  Lipitor      9      10.90  \n",
       "998  2016-07-18 10:33:46.036807  Corolla     28   21155.09  \n",
       "999  2016-07-03 10:33:46.036831     iPad     42     570.57  "
      ]
     },
     "execution_count": 27,
     "metadata": {},
     "output_type": "execute_result"
    }
   ],
   "source": [
    "sales_data.tail(5)"
   ]
  },
  {
   "cell_type": "code",
   "execution_count": 28,
   "metadata": {
    "scrolled": false
   },
   "outputs": [
    {
     "name": "stdout",
     "output_type": "stream",
     "text": [
      "<class 'pandas.core.frame.DataFrame'>\n",
      "RangeIndex: 1000 entries, 0 to 999\n",
      "Data columns (total 7 columns):\n",
      "name         1000 non-null object\n",
      "birthday     1000 non-null object\n",
      "customer     1000 non-null object\n",
      "orderdate    1000 non-null object\n",
      "product      1000 non-null object\n",
      "units        1000 non-null int64\n",
      "unitprice    1000 non-null float64\n",
      "dtypes: float64(1), int64(1), object(5)\n",
      "memory usage: 54.8+ KB\n"
     ]
    }
   ],
   "source": [
    "sales_data.info()"
   ]
  },
  {
   "cell_type": "markdown",
   "metadata": {},
   "source": [
    "note: date(time) are still strings objects"
   ]
  },
  {
   "cell_type": "code",
   "execution_count": 29,
   "metadata": {},
   "outputs": [
    {
     "name": "stdout",
     "output_type": "stream",
     "text": [
      "<class 'pandas.core.frame.DataFrame'>\n",
      "RangeIndex: 1000 entries, 0 to 999\n",
      "Data columns (total 7 columns):\n",
      "name         1000 non-null object\n",
      "birthday     1000 non-null datetime64[ns]\n",
      "customer     1000 non-null object\n",
      "orderdate    1000 non-null datetime64[ns]\n",
      "product      1000 non-null object\n",
      "units        1000 non-null int64\n",
      "unitprice    1000 non-null float64\n",
      "dtypes: datetime64[ns](2), float64(1), int64(1), object(3)\n",
      "memory usage: 54.8+ KB\n"
     ]
    }
   ],
   "source": [
    "sales_data = pd.read_csv('../data/blooth_sales_data.csv',\n",
    "                         parse_dates=['birthday', 'orderdate']\n",
    "                        )\n",
    "sales_data.info()"
   ]
  },
  {
   "cell_type": "code",
   "execution_count": 30,
   "metadata": {},
   "outputs": [
    {
     "data": {
      "text/html": [
       "<div>\n",
       "<style>\n",
       "    .dataframe thead tr:only-child th {\n",
       "        text-align: right;\n",
       "    }\n",
       "\n",
       "    .dataframe thead th {\n",
       "        text-align: left;\n",
       "    }\n",
       "\n",
       "    .dataframe tbody tr th {\n",
       "        vertical-align: top;\n",
       "    }\n",
       "</style>\n",
       "<table border=\"1\" class=\"dataframe\">\n",
       "  <thead>\n",
       "    <tr style=\"text-align: right;\">\n",
       "      <th></th>\n",
       "      <th>name</th>\n",
       "      <th>birthday</th>\n",
       "      <th>customer</th>\n",
       "      <th>orderdate</th>\n",
       "      <th>product</th>\n",
       "      <th>units</th>\n",
       "      <th>unitprice</th>\n",
       "    </tr>\n",
       "  </thead>\n",
       "  <tbody>\n",
       "    <tr>\n",
       "      <th>0</th>\n",
       "      <td>Mohamed</td>\n",
       "      <td>1978-03-15</td>\n",
       "      <td>Federated North Corporation</td>\n",
       "      <td>2016-07-05 10:33:46.009401</td>\n",
       "      <td>banana</td>\n",
       "      <td>10</td>\n",
       "      <td>10.00</td>\n",
       "    </tr>\n",
       "    <tr>\n",
       "      <th>1</th>\n",
       "      <td>Kim</td>\n",
       "      <td>1986-01-05</td>\n",
       "      <td>Star Application Agency</td>\n",
       "      <td>2016-07-15 10:33:46.009447</td>\n",
       "      <td>Rubik’s Cube</td>\n",
       "      <td>5</td>\n",
       "      <td>16.44</td>\n",
       "    </tr>\n",
       "    <tr>\n",
       "      <th>2</th>\n",
       "      <td>Chester</td>\n",
       "      <td>1967-05-24</td>\n",
       "      <td>Hardware Industries</td>\n",
       "      <td>2016-07-25 10:33:46.009479</td>\n",
       "      <td>iPad</td>\n",
       "      <td>48</td>\n",
       "      <td>865.62</td>\n",
       "    </tr>\n",
       "    <tr>\n",
       "      <th>3</th>\n",
       "      <td>Boyce</td>\n",
       "      <td>1980-11-12</td>\n",
       "      <td>Bell Building Co</td>\n",
       "      <td>2016-07-06 10:33:46.009507</td>\n",
       "      <td>Harry Potter book</td>\n",
       "      <td>44</td>\n",
       "      <td>18.54</td>\n",
       "    </tr>\n",
       "    <tr>\n",
       "      <th>4</th>\n",
       "      <td>Wilma</td>\n",
       "      <td>1953-12-24</td>\n",
       "      <td>Net Electronic Consulting Limited</td>\n",
       "      <td>2016-07-09 10:33:46.009537</td>\n",
       "      <td>iPad</td>\n",
       "      <td>40</td>\n",
       "      <td>772.63</td>\n",
       "    </tr>\n",
       "  </tbody>\n",
       "</table>\n",
       "</div>"
      ],
      "text/plain": [
       "      name   birthday                           customer  \\\n",
       "0  Mohamed 1978-03-15        Federated North Corporation   \n",
       "1      Kim 1986-01-05            Star Application Agency   \n",
       "2  Chester 1967-05-24                Hardware Industries   \n",
       "3    Boyce 1980-11-12                   Bell Building Co   \n",
       "4    Wilma 1953-12-24  Net Electronic Consulting Limited   \n",
       "\n",
       "                   orderdate            product  units  unitprice  \n",
       "0 2016-07-05 10:33:46.009401             banana     10      10.00  \n",
       "1 2016-07-15 10:33:46.009447       Rubik’s Cube      5      16.44  \n",
       "2 2016-07-25 10:33:46.009479               iPad     48     865.62  \n",
       "3 2016-07-06 10:33:46.009507  Harry Potter book     44      18.54  \n",
       "4 2016-07-09 10:33:46.009537               iPad     40     772.63  "
      ]
     },
     "execution_count": 30,
     "metadata": {},
     "output_type": "execute_result"
    }
   ],
   "source": [
    "sales_data.head(5)"
   ]
  },
  {
   "cell_type": "markdown",
   "metadata": {},
   "source": [
    "The auto date parser is US date friendly by default -> month first! MM/DD/YYYY add *dayfirst=True* for international and European format."
   ]
  },
  {
   "cell_type": "code",
   "execution_count": 31,
   "metadata": {},
   "outputs": [
    {
     "data": {
      "text/html": [
       "<div>\n",
       "<style>\n",
       "    .dataframe thead tr:only-child th {\n",
       "        text-align: right;\n",
       "    }\n",
       "\n",
       "    .dataframe thead th {\n",
       "        text-align: left;\n",
       "    }\n",
       "\n",
       "    .dataframe tbody tr th {\n",
       "        vertical-align: top;\n",
       "    }\n",
       "</style>\n",
       "<table border=\"1\" class=\"dataframe\">\n",
       "  <thead>\n",
       "    <tr style=\"text-align: right;\">\n",
       "      <th></th>\n",
       "      <th>name</th>\n",
       "      <th>birthday</th>\n",
       "      <th>customer</th>\n",
       "      <th>orderdate</th>\n",
       "      <th>product</th>\n",
       "      <th>units</th>\n",
       "      <th>unitprice</th>\n",
       "    </tr>\n",
       "  </thead>\n",
       "  <tbody>\n",
       "    <tr>\n",
       "      <th>0</th>\n",
       "      <td>Mohamed</td>\n",
       "      <td>1978-03-15</td>\n",
       "      <td>Federated North Corporation</td>\n",
       "      <td>2016-07-05 10:33:46.009401</td>\n",
       "      <td>banana</td>\n",
       "      <td>10</td>\n",
       "      <td>10.00</td>\n",
       "    </tr>\n",
       "    <tr>\n",
       "      <th>1</th>\n",
       "      <td>Kim</td>\n",
       "      <td>1986-01-05</td>\n",
       "      <td>Star Application Agency</td>\n",
       "      <td>2016-07-15 10:33:46.009447</td>\n",
       "      <td>Rubik’s Cube</td>\n",
       "      <td>5</td>\n",
       "      <td>16.44</td>\n",
       "    </tr>\n",
       "    <tr>\n",
       "      <th>2</th>\n",
       "      <td>Chester</td>\n",
       "      <td>1967-05-24</td>\n",
       "      <td>Hardware Industries</td>\n",
       "      <td>2016-07-25 10:33:46.009479</td>\n",
       "      <td>iPad</td>\n",
       "      <td>48</td>\n",
       "      <td>865.62</td>\n",
       "    </tr>\n",
       "    <tr>\n",
       "      <th>3</th>\n",
       "      <td>Boyce</td>\n",
       "      <td>1980-11-12</td>\n",
       "      <td>Bell Building Co</td>\n",
       "      <td>2016-07-06 10:33:46.009507</td>\n",
       "      <td>Harry Potter book</td>\n",
       "      <td>44</td>\n",
       "      <td>18.54</td>\n",
       "    </tr>\n",
       "    <tr>\n",
       "      <th>4</th>\n",
       "      <td>Wilma</td>\n",
       "      <td>1953-12-24</td>\n",
       "      <td>Net Electronic Consulting Limited</td>\n",
       "      <td>2016-07-09 10:33:46.009537</td>\n",
       "      <td>iPad</td>\n",
       "      <td>40</td>\n",
       "      <td>772.63</td>\n",
       "    </tr>\n",
       "  </tbody>\n",
       "</table>\n",
       "</div>"
      ],
      "text/plain": [
       "      name   birthday                           customer  \\\n",
       "0  Mohamed 1978-03-15        Federated North Corporation   \n",
       "1      Kim 1986-01-05            Star Application Agency   \n",
       "2  Chester 1967-05-24                Hardware Industries   \n",
       "3    Boyce 1980-11-12                   Bell Building Co   \n",
       "4    Wilma 1953-12-24  Net Electronic Consulting Limited   \n",
       "\n",
       "                   orderdate            product  units  unitprice  \n",
       "0 2016-07-05 10:33:46.009401             banana     10      10.00  \n",
       "1 2016-07-15 10:33:46.009447       Rubik’s Cube      5      16.44  \n",
       "2 2016-07-25 10:33:46.009479               iPad     48     865.62  \n",
       "3 2016-07-06 10:33:46.009507  Harry Potter book     44      18.54  \n",
       "4 2016-07-09 10:33:46.009537               iPad     40     772.63  "
      ]
     },
     "execution_count": 31,
     "metadata": {},
     "output_type": "execute_result"
    }
   ],
   "source": [
    "sales_data = pd.read_csv('../data/blooth_sales_data.csv',\n",
    "                         parse_dates=['birthday', 'orderdate'],\n",
    "                         dayfirst=True\n",
    "                        )\n",
    "sales_data.head(5)"
   ]
  },
  {
   "cell_type": "markdown",
   "metadata": {},
   "source": [
    "### Other formats"
   ]
  },
  {
   "cell_type": "code",
   "execution_count": 32,
   "metadata": {},
   "outputs": [
    {
     "data": {
      "text/html": [
       "<div>\n",
       "<style>\n",
       "    .dataframe thead tr:only-child th {\n",
       "        text-align: right;\n",
       "    }\n",
       "\n",
       "    .dataframe thead th {\n",
       "        text-align: left;\n",
       "    }\n",
       "\n",
       "    .dataframe tbody tr th {\n",
       "        vertical-align: top;\n",
       "    }\n",
       "</style>\n",
       "<table border=\"1\" class=\"dataframe\">\n",
       "  <thead>\n",
       "    <tr style=\"text-align: right;\">\n",
       "      <th></th>\n",
       "      <th>birthday</th>\n",
       "      <th>customer</th>\n",
       "      <th>name</th>\n",
       "      <th>orderdate</th>\n",
       "      <th>product</th>\n",
       "      <th>unitprice</th>\n",
       "      <th>units</th>\n",
       "    </tr>\n",
       "  </thead>\n",
       "  <tbody>\n",
       "    <tr>\n",
       "      <th>0</th>\n",
       "      <td>1978-03-15</td>\n",
       "      <td>Federated North Corporation</td>\n",
       "      <td>Mohamed</td>\n",
       "      <td>2016-07-05 10:33:46.009401</td>\n",
       "      <td>banana</td>\n",
       "      <td>10.00</td>\n",
       "      <td>10</td>\n",
       "    </tr>\n",
       "    <tr>\n",
       "      <th>1</th>\n",
       "      <td>1986-01-05</td>\n",
       "      <td>Star Application Agency</td>\n",
       "      <td>Kim</td>\n",
       "      <td>2016-07-15 10:33:46.009447</td>\n",
       "      <td>Rubik’s Cube</td>\n",
       "      <td>16.44</td>\n",
       "      <td>5</td>\n",
       "    </tr>\n",
       "    <tr>\n",
       "      <th>2</th>\n",
       "      <td>1967-05-24</td>\n",
       "      <td>Hardware Industries</td>\n",
       "      <td>Chester</td>\n",
       "      <td>2016-07-25 10:33:46.009479</td>\n",
       "      <td>iPad</td>\n",
       "      <td>865.62</td>\n",
       "      <td>48</td>\n",
       "    </tr>\n",
       "    <tr>\n",
       "      <th>3</th>\n",
       "      <td>1980-11-12</td>\n",
       "      <td>Bell Building Co</td>\n",
       "      <td>Boyce</td>\n",
       "      <td>2016-07-06 10:33:46.009507</td>\n",
       "      <td>Harry Potter book</td>\n",
       "      <td>18.54</td>\n",
       "      <td>44</td>\n",
       "    </tr>\n",
       "    <tr>\n",
       "      <th>4</th>\n",
       "      <td>1953-12-24</td>\n",
       "      <td>Net Electronic Consulting Limited</td>\n",
       "      <td>Wilma</td>\n",
       "      <td>2016-07-09 10:33:46.009537</td>\n",
       "      <td>iPad</td>\n",
       "      <td>772.63</td>\n",
       "      <td>40</td>\n",
       "    </tr>\n",
       "  </tbody>\n",
       "</table>\n",
       "</div>"
      ],
      "text/plain": [
       "     birthday                           customer     name  \\\n",
       "0  1978-03-15        Federated North Corporation  Mohamed   \n",
       "1  1986-01-05            Star Application Agency      Kim   \n",
       "2  1967-05-24                Hardware Industries  Chester   \n",
       "3  1980-11-12                   Bell Building Co    Boyce   \n",
       "4  1953-12-24  Net Electronic Consulting Limited    Wilma   \n",
       "\n",
       "                    orderdate            product  unitprice  units  \n",
       "0  2016-07-05 10:33:46.009401             banana      10.00     10  \n",
       "1  2016-07-15 10:33:46.009447       Rubik’s Cube      16.44      5  \n",
       "2  2016-07-25 10:33:46.009479               iPad     865.62     48  \n",
       "3  2016-07-06 10:33:46.009507  Harry Potter book      18.54     44  \n",
       "4  2016-07-09 10:33:46.009537               iPad     772.63     40  "
      ]
     },
     "execution_count": 32,
     "metadata": {},
     "output_type": "execute_result"
    }
   ],
   "source": [
    "sales_data_json = pd.read_json('../data/blooth_sales_data.json')\n",
    "sales_data_json.head(5)"
   ]
  },
  {
   "cell_type": "code",
   "execution_count": 33,
   "metadata": {},
   "outputs": [
    {
     "data": {
      "text/html": [
       "<div>\n",
       "<style>\n",
       "    .dataframe thead tr:only-child th {\n",
       "        text-align: right;\n",
       "    }\n",
       "\n",
       "    .dataframe thead th {\n",
       "        text-align: left;\n",
       "    }\n",
       "\n",
       "    .dataframe tbody tr th {\n",
       "        vertical-align: top;\n",
       "    }\n",
       "</style>\n",
       "<table border=\"1\" class=\"dataframe\">\n",
       "  <thead>\n",
       "    <tr style=\"text-align: right;\">\n",
       "      <th></th>\n",
       "      <th>birthday</th>\n",
       "      <th>customer</th>\n",
       "      <th>name</th>\n",
       "      <th>orderdate</th>\n",
       "      <th>product</th>\n",
       "      <th>unitprice</th>\n",
       "      <th>units</th>\n",
       "    </tr>\n",
       "  </thead>\n",
       "  <tbody>\n",
       "    <tr>\n",
       "      <th>0</th>\n",
       "      <td>1978-03-15</td>\n",
       "      <td>Federated North Corporation</td>\n",
       "      <td>Mohamed</td>\n",
       "      <td>2016-07-05 10:33:46.009401</td>\n",
       "      <td>banana</td>\n",
       "      <td>10.00</td>\n",
       "      <td>10</td>\n",
       "    </tr>\n",
       "    <tr>\n",
       "      <th>1</th>\n",
       "      <td>1986-01-05</td>\n",
       "      <td>Star Application Agency</td>\n",
       "      <td>Kim</td>\n",
       "      <td>2016-07-15 10:33:46.009447</td>\n",
       "      <td>Rubik’s Cube</td>\n",
       "      <td>16.44</td>\n",
       "      <td>5</td>\n",
       "    </tr>\n",
       "    <tr>\n",
       "      <th>2</th>\n",
       "      <td>1967-05-24</td>\n",
       "      <td>Hardware Industries</td>\n",
       "      <td>Chester</td>\n",
       "      <td>2016-07-25 10:33:46.009479</td>\n",
       "      <td>iPad</td>\n",
       "      <td>865.62</td>\n",
       "      <td>48</td>\n",
       "    </tr>\n",
       "    <tr>\n",
       "      <th>3</th>\n",
       "      <td>1980-11-12</td>\n",
       "      <td>Bell Building Co</td>\n",
       "      <td>Boyce</td>\n",
       "      <td>2016-07-06 10:33:46.009507</td>\n",
       "      <td>Harry Potter book</td>\n",
       "      <td>18.54</td>\n",
       "      <td>44</td>\n",
       "    </tr>\n",
       "    <tr>\n",
       "      <th>4</th>\n",
       "      <td>1953-12-24</td>\n",
       "      <td>Net Electronic Consulting Limited</td>\n",
       "      <td>Wilma</td>\n",
       "      <td>2016-07-09 10:33:46.009537</td>\n",
       "      <td>iPad</td>\n",
       "      <td>772.63</td>\n",
       "      <td>40</td>\n",
       "    </tr>\n",
       "  </tbody>\n",
       "</table>\n",
       "</div>"
      ],
      "text/plain": [
       "     birthday                           customer     name  \\\n",
       "0  1978-03-15        Federated North Corporation  Mohamed   \n",
       "1  1986-01-05            Star Application Agency      Kim   \n",
       "2  1967-05-24                Hardware Industries  Chester   \n",
       "3  1980-11-12                   Bell Building Co    Boyce   \n",
       "4  1953-12-24  Net Electronic Consulting Limited    Wilma   \n",
       "\n",
       "                    orderdate            product  unitprice  units  \n",
       "0  2016-07-05 10:33:46.009401             banana      10.00     10  \n",
       "1  2016-07-15 10:33:46.009447       Rubik’s Cube      16.44      5  \n",
       "2  2016-07-25 10:33:46.009479               iPad     865.62     48  \n",
       "3  2016-07-06 10:33:46.009507  Harry Potter book      18.54     44  \n",
       "4  2016-07-09 10:33:46.009537               iPad     772.63     40  "
      ]
     },
     "execution_count": 33,
     "metadata": {},
     "output_type": "execute_result"
    }
   ],
   "source": [
    "sales_data_json = pd.read_json('../data/blooth_sales_data.json',\n",
    "                              )\n",
    "sales_data_json.head(5)"
   ]
  },
  {
   "cell_type": "code",
   "execution_count": 34,
   "metadata": {},
   "outputs": [
    {
     "name": "stdout",
     "output_type": "stream",
     "text": [
      "<class 'pandas.core.frame.DataFrame'>\n",
      "Int64Index: 1000 entries, 0 to 999\n",
      "Data columns (total 7 columns):\n",
      "birthday     1000 non-null object\n",
      "customer     1000 non-null object\n",
      "name         1000 non-null object\n",
      "orderdate    1000 non-null object\n",
      "product      1000 non-null object\n",
      "unitprice    1000 non-null float64\n",
      "units        1000 non-null int64\n",
      "dtypes: float64(1), int64(1), object(5)\n",
      "memory usage: 62.5+ KB\n"
     ]
    }
   ],
   "source": [
    "sales_data_json.info()"
   ]
  },
  {
   "cell_type": "markdown",
   "metadata": {},
   "source": [
    "Our json is not correctly formatted for datetime!\n",
    "\n",
    "Should be ISO 8601 \"YYYY-MM-DDTHH:MM:SS.NNNZ\" e.g. 2012-04-23T18:25:43.511Z"
   ]
  },
  {
   "cell_type": "code",
   "execution_count": 40,
   "metadata": {},
   "outputs": [
    {
     "data": {
      "text/plain": [
       "{'birthday': '1978-03-15',\n",
       " 'customer': 'Federated North Corporation',\n",
       " 'name': 'Mohamed',\n",
       " 'orderdate': '2016-07-05 10:33:46.009401',\n",
       " 'product': 'banana',\n",
       " 'unitprice': 10.0,\n",
       " 'units': 10}"
      ]
     },
     "execution_count": 40,
     "metadata": {},
     "output_type": "execute_result"
    }
   ],
   "source": [
    "import json\n",
    "with open('../data/blooth_sales_data.json', 'r') as f:\n",
    "    _json = json.load(f)\n",
    "_json[0]"
   ]
  },
  {
   "cell_type": "code",
   "execution_count": 41,
   "metadata": {},
   "outputs": [
    {
     "data": {
      "text/plain": [
       "{'birthday': datetime.datetime(1978, 3, 15, 0, 0),\n",
       " 'customer': 'Federated North Corporation',\n",
       " 'name': 'Mohamed',\n",
       " 'orderdate': '2016-07-05T10:33:46Z',\n",
       " 'product': 'banana',\n",
       " 'unitprice': 10.0,\n",
       " 'units': 10}"
      ]
     },
     "execution_count": 41,
     "metadata": {},
     "output_type": "execute_result"
    }
   ],
   "source": [
    "import datetime\n",
    "for j in _json:\n",
    "    j['orderdate'] = datetime.datetime.strptime(j['orderdate'], \"%Y-%m-%d %H:%M:%S.%f\").strftime(\"%Y-%m-%dT%H:%M:%SZ\")\n",
    "    j['birthday'] = datetime.datetime.strptime(j['birthday'], \"%Y-%m-%d\")\n",
    "_json[0]"
   ]
  },
  {
   "cell_type": "code",
   "execution_count": 42,
   "metadata": {},
   "outputs": [
    {
     "data": {
      "text/html": [
       "<div>\n",
       "<style>\n",
       "    .dataframe thead tr:only-child th {\n",
       "        text-align: right;\n",
       "    }\n",
       "\n",
       "    .dataframe thead th {\n",
       "        text-align: left;\n",
       "    }\n",
       "\n",
       "    .dataframe tbody tr th {\n",
       "        vertical-align: top;\n",
       "    }\n",
       "</style>\n",
       "<table border=\"1\" class=\"dataframe\">\n",
       "  <thead>\n",
       "    <tr style=\"text-align: right;\">\n",
       "      <th></th>\n",
       "      <th>birthday</th>\n",
       "      <th>customer</th>\n",
       "      <th>name</th>\n",
       "      <th>orderdate</th>\n",
       "      <th>product</th>\n",
       "      <th>unitprice</th>\n",
       "      <th>units</th>\n",
       "    </tr>\n",
       "  </thead>\n",
       "  <tbody>\n",
       "    <tr>\n",
       "      <th>0</th>\n",
       "      <td>1978-03-15</td>\n",
       "      <td>Federated North Corporation</td>\n",
       "      <td>Mohamed</td>\n",
       "      <td>2016-07-05T10:33:46Z</td>\n",
       "      <td>banana</td>\n",
       "      <td>10.00</td>\n",
       "      <td>10</td>\n",
       "    </tr>\n",
       "    <tr>\n",
       "      <th>1</th>\n",
       "      <td>1986-01-05</td>\n",
       "      <td>Star Application Agency</td>\n",
       "      <td>Kim</td>\n",
       "      <td>2016-07-15T10:33:46Z</td>\n",
       "      <td>Rubik’s Cube</td>\n",
       "      <td>16.44</td>\n",
       "      <td>5</td>\n",
       "    </tr>\n",
       "    <tr>\n",
       "      <th>2</th>\n",
       "      <td>1967-05-24</td>\n",
       "      <td>Hardware Industries</td>\n",
       "      <td>Chester</td>\n",
       "      <td>2016-07-25T10:33:46Z</td>\n",
       "      <td>iPad</td>\n",
       "      <td>865.62</td>\n",
       "      <td>48</td>\n",
       "    </tr>\n",
       "    <tr>\n",
       "      <th>3</th>\n",
       "      <td>1980-11-12</td>\n",
       "      <td>Bell Building Co</td>\n",
       "      <td>Boyce</td>\n",
       "      <td>2016-07-06T10:33:46Z</td>\n",
       "      <td>Harry Potter book</td>\n",
       "      <td>18.54</td>\n",
       "      <td>44</td>\n",
       "    </tr>\n",
       "    <tr>\n",
       "      <th>4</th>\n",
       "      <td>1953-12-24</td>\n",
       "      <td>Net Electronic Consulting Limited</td>\n",
       "      <td>Wilma</td>\n",
       "      <td>2016-07-09T10:33:46Z</td>\n",
       "      <td>iPad</td>\n",
       "      <td>772.63</td>\n",
       "      <td>40</td>\n",
       "    </tr>\n",
       "  </tbody>\n",
       "</table>\n",
       "</div>"
      ],
      "text/plain": [
       "    birthday                           customer     name  \\\n",
       "0 1978-03-15        Federated North Corporation  Mohamed   \n",
       "1 1986-01-05            Star Application Agency      Kim   \n",
       "2 1967-05-24                Hardware Industries  Chester   \n",
       "3 1980-11-12                   Bell Building Co    Boyce   \n",
       "4 1953-12-24  Net Electronic Consulting Limited    Wilma   \n",
       "\n",
       "              orderdate            product  unitprice  units  \n",
       "0  2016-07-05T10:33:46Z             banana      10.00     10  \n",
       "1  2016-07-15T10:33:46Z       Rubik’s Cube      16.44      5  \n",
       "2  2016-07-25T10:33:46Z               iPad     865.62     48  \n",
       "3  2016-07-06T10:33:46Z  Harry Potter book      18.54     44  \n",
       "4  2016-07-09T10:33:46Z               iPad     772.63     40  "
      ]
     },
     "execution_count": 42,
     "metadata": {},
     "output_type": "execute_result"
    }
   ],
   "source": [
    "sales_data_from_dict = pd.DataFrame(_json)\n",
    "sales_data_from_dict.head(5)"
   ]
  },
  {
   "cell_type": "code",
   "execution_count": 43,
   "metadata": {},
   "outputs": [
    {
     "name": "stdout",
     "output_type": "stream",
     "text": [
      "<class 'pandas.core.frame.DataFrame'>\n",
      "RangeIndex: 1000 entries, 0 to 999\n",
      "Data columns (total 7 columns):\n",
      "birthday     1000 non-null datetime64[ns]\n",
      "customer     1000 non-null object\n",
      "name         1000 non-null object\n",
      "orderdate    1000 non-null object\n",
      "product      1000 non-null object\n",
      "unitprice    1000 non-null float64\n",
      "units        1000 non-null int64\n",
      "dtypes: datetime64[ns](1), float64(1), int64(1), object(4)\n",
      "memory usage: 54.8+ KB\n"
     ]
    }
   ],
   "source": [
    "sales_data_from_dict.info()"
   ]
  },
  {
   "cell_type": "code",
   "execution_count": 45,
   "metadata": {},
   "outputs": [
    {
     "name": "stdout",
     "output_type": "stream",
     "text": [
      "<class 'pandas.core.frame.DataFrame'>\n",
      "RangeIndex: 1000 entries, 0 to 999\n",
      "Data columns (total 7 columns):\n",
      "birthday     1000 non-null datetime64[ns]\n",
      "customer     1000 non-null object\n",
      "name         1000 non-null object\n",
      "orderdate    1000 non-null datetime64[ns]\n",
      "product      1000 non-null object\n",
      "unitprice    1000 non-null float64\n",
      "units        1000 non-null int64\n",
      "dtypes: datetime64[ns](2), float64(1), int64(1), object(3)\n",
      "memory usage: 54.8+ KB\n"
     ]
    }
   ],
   "source": [
    "with open('../data/blooth_sales_data.json', 'r') as f:\n",
    "    _json = json.load(f)\n",
    "for j in _json:\n",
    "    j['orderdate'] = datetime.datetime.strptime(j['orderdate'], \"%Y-%m-%d %H:%M:%S.%f\")\n",
    "    j['birthday'] = datetime.datetime.strptime(j['birthday'], \"%Y-%m-%d\")\n",
    "sales_data_from_dict = pd.DataFrame(_json)\n",
    "sales_data_from_dict.info()\n"
   ]
  },
  {
   "cell_type": "markdown",
   "metadata": {},
   "source": [
    "### Summary\n",
    "\n",
    "* reading and writing data is simple with Pandas\n",
    "* very customizable imports\n",
    "* a lot of the handling is done by Pandas by default, e.g.:\n",
    "    * header\n",
    "    * datatype (int/float, but not datetime)\n",
    "    * skipping blank lines\n",
    "    * …\n",
    "* data cleansing (datetime example above) can also be done in pandas directly, we'll see later.\n",
    "* caveats:\n",
    "    * Columns with NaN values become floats\n",
    "   "
   ]
  },
  {
   "cell_type": "code",
   "execution_count": null,
   "metadata": {
    "collapsed": true
   },
   "outputs": [],
   "source": []
  }
 ],
 "metadata": {
  "kernelspec": {
   "display_name": "Python 3",
   "language": "python",
   "name": "python3"
  },
  "language_info": {
   "codemirror_mode": {
    "name": "ipython",
    "version": 3
   },
   "file_extension": ".py",
   "mimetype": "text/x-python",
   "name": "python",
   "nbconvert_exporter": "python",
   "pygments_lexer": "ipython3",
   "version": "3.6.1"
  }
 },
 "nbformat": 4,
 "nbformat_minor": 2
}
