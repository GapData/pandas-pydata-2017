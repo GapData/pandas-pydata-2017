{
 "cells": [
  {
   "cell_type": "code",
   "execution_count": 4,
   "metadata": {},
   "outputs": [],
   "source": [
    "import pandas as pd\n",
    "import numpy as np\n",
    "import matplotlib.pyplot as plt\n",
    "plt.style.use('default')"
   ]
  },
  {
   "cell_type": "code",
   "execution_count": 5,
   "metadata": {
    "collapsed": true
   },
   "outputs": [],
   "source": [
    "%matplotlib inline\n"
   ]
  },
  {
   "cell_type": "code",
   "execution_count": 7,
   "metadata": {},
   "outputs": [
    {
     "data": {
      "text/html": [
       "<div>\n",
       "<style>\n",
       "    .dataframe thead tr:only-child th {\n",
       "        text-align: right;\n",
       "    }\n",
       "\n",
       "    .dataframe thead th {\n",
       "        text-align: left;\n",
       "    }\n",
       "\n",
       "    .dataframe tbody tr th {\n",
       "        vertical-align: top;\n",
       "    }\n",
       "</style>\n",
       "<table border=\"1\" class=\"dataframe\">\n",
       "  <thead>\n",
       "    <tr style=\"text-align: right;\">\n",
       "      <th></th>\n",
       "      <th>birthday</th>\n",
       "      <th>customer</th>\n",
       "      <th>name</th>\n",
       "      <th>orderdate</th>\n",
       "      <th>product</th>\n",
       "      <th>unitprice</th>\n",
       "      <th>units</th>\n",
       "      <th>turnover</th>\n",
       "    </tr>\n",
       "  </thead>\n",
       "  <tbody>\n",
       "    <tr>\n",
       "      <th>0</th>\n",
       "      <td>1967-09-02</td>\n",
       "      <td>Electronics Inc</td>\n",
       "      <td>Pasquale</td>\n",
       "      <td>2016-07-17 13:48:03.156566</td>\n",
       "      <td>Thriller record</td>\n",
       "      <td>13.27</td>\n",
       "      <td>2</td>\n",
       "      <td>26.54</td>\n",
       "    </tr>\n",
       "    <tr>\n",
       "      <th>1</th>\n",
       "      <td>1968-12-13</td>\n",
       "      <td>Electronics Resource Group</td>\n",
       "      <td>India</td>\n",
       "      <td>2016-07-06 13:48:03.156596</td>\n",
       "      <td>Corolla</td>\n",
       "      <td>24458.69</td>\n",
       "      <td>26</td>\n",
       "      <td>635925.94</td>\n",
       "    </tr>\n",
       "    <tr>\n",
       "      <th>2</th>\n",
       "      <td>1992-09-10</td>\n",
       "      <td>East Application Contract Inc</td>\n",
       "      <td>Wayne</td>\n",
       "      <td>2016-07-22 13:48:03.156618</td>\n",
       "      <td>Rubik’s Cube</td>\n",
       "      <td>15.79</td>\n",
       "      <td>41</td>\n",
       "      <td>647.39</td>\n",
       "    </tr>\n",
       "    <tr>\n",
       "      <th>3</th>\n",
       "      <td>1986-11-05</td>\n",
       "      <td>Signal Industries</td>\n",
       "      <td>Cori</td>\n",
       "      <td>2016-07-23 13:48:03.156638</td>\n",
       "      <td>iPhone</td>\n",
       "      <td>584.01</td>\n",
       "      <td>16</td>\n",
       "      <td>9344.16</td>\n",
       "    </tr>\n",
       "    <tr>\n",
       "      <th>4</th>\n",
       "      <td>1972-04-23</td>\n",
       "      <td>Star Alpha Industries</td>\n",
       "      <td>Chang</td>\n",
       "      <td>2016-07-16 13:48:03.156657</td>\n",
       "      <td>Harry Potter book</td>\n",
       "      <td>25.69</td>\n",
       "      <td>4</td>\n",
       "      <td>102.76</td>\n",
       "    </tr>\n",
       "  </tbody>\n",
       "</table>\n",
       "</div>"
      ],
      "text/plain": [
       "    birthday                       customer      name  \\\n",
       "0 1967-09-02                Electronics Inc  Pasquale   \n",
       "1 1968-12-13     Electronics Resource Group     India   \n",
       "2 1992-09-10  East Application Contract Inc     Wayne   \n",
       "3 1986-11-05              Signal Industries      Cori   \n",
       "4 1972-04-23          Star Alpha Industries     Chang   \n",
       "\n",
       "                   orderdate            product  unitprice  units   turnover  \n",
       "0 2016-07-17 13:48:03.156566    Thriller record      13.27      2      26.54  \n",
       "1 2016-07-06 13:48:03.156596            Corolla   24458.69     26  635925.94  \n",
       "2 2016-07-22 13:48:03.156618       Rubik’s Cube      15.79     41     647.39  \n",
       "3 2016-07-23 13:48:03.156638             iPhone     584.01     16    9344.16  \n",
       "4 2016-07-16 13:48:03.156657  Harry Potter book      25.69      4     102.76  "
      ]
     },
     "execution_count": 7,
     "metadata": {},
     "output_type": "execute_result"
    }
   ],
   "source": [
    "sales_data = pd.read_json('../data/blooth_sales_data.json',\n",
    "                              convert_dates=['birthday', 'orderdate']\n",
    "                              )\n",
    "sales_data['turnover'] = sales_data['unitprice'] * sales_data['units']\n",
    "\n",
    "sales_data.head(5)"
   ]
  },
  {
   "cell_type": "code",
   "execution_count": 29,
   "metadata": {},
   "outputs": [
    {
     "data": {
      "text/html": [
       "<div>\n",
       "<style>\n",
       "    .dataframe thead tr:only-child th {\n",
       "        text-align: right;\n",
       "    }\n",
       "\n",
       "    .dataframe thead th {\n",
       "        text-align: left;\n",
       "    }\n",
       "\n",
       "    .dataframe tbody tr th {\n",
       "        vertical-align: top;\n",
       "    }\n",
       "</style>\n",
       "<table border=\"1\" class=\"dataframe\">\n",
       "  <thead>\n",
       "    <tr style=\"text-align: right;\">\n",
       "      <th></th>\n",
       "      <th>turnover</th>\n",
       "    </tr>\n",
       "    <tr>\n",
       "      <th>product</th>\n",
       "      <th></th>\n",
       "    </tr>\n",
       "  </thead>\n",
       "  <tbody>\n",
       "    <tr>\n",
       "      <th>Corolla</th>\n",
       "      <td>53191480.51</td>\n",
       "    </tr>\n",
       "    <tr>\n",
       "      <th>Harry Potter book</th>\n",
       "      <td>51673.67</td>\n",
       "    </tr>\n",
       "    <tr>\n",
       "      <th>Lipitor</th>\n",
       "      <td>25435.05</td>\n",
       "    </tr>\n",
       "    <tr>\n",
       "      <th>PlayStation</th>\n",
       "      <td>718578.51</td>\n",
       "    </tr>\n",
       "    <tr>\n",
       "      <th>Rubik’s Cube</th>\n",
       "      <td>44957.49</td>\n",
       "    </tr>\n",
       "    <tr>\n",
       "      <th>Star Wars</th>\n",
       "      <td>28329.24</td>\n",
       "    </tr>\n",
       "    <tr>\n",
       "      <th>Thriller record</th>\n",
       "      <td>33806.96</td>\n",
       "    </tr>\n",
       "    <tr>\n",
       "      <th>banana</th>\n",
       "      <td>25690.00</td>\n",
       "    </tr>\n",
       "    <tr>\n",
       "      <th>iPad</th>\n",
       "      <td>2028467.59</td>\n",
       "    </tr>\n",
       "    <tr>\n",
       "      <th>iPhone</th>\n",
       "      <td>1645883.10</td>\n",
       "    </tr>\n",
       "  </tbody>\n",
       "</table>\n",
       "</div>"
      ],
      "text/plain": [
       "                      turnover\n",
       "product                       \n",
       "Corolla            53191480.51\n",
       "Harry Potter book     51673.67\n",
       "Lipitor               25435.05\n",
       "PlayStation          718578.51\n",
       "Rubik’s Cube          44957.49\n",
       "Star Wars             28329.24\n",
       "Thriller record       33806.96\n",
       "banana                25690.00\n",
       "iPad                2028467.59\n",
       "iPhone              1645883.10"
      ]
     },
     "execution_count": 29,
     "metadata": {},
     "output_type": "execute_result"
    }
   ],
   "source": [
    "tt = sales_data[['product', 'turnover']].groupby('product').sum()\n",
    "tt"
   ]
  },
  {
   "cell_type": "code",
   "execution_count": 28,
   "metadata": {},
   "outputs": [
    {
     "data": {
      "text/plain": [
       "<matplotlib.axes._subplots.AxesSubplot at 0x10556be48>"
      ]
     },
     "execution_count": 28,
     "metadata": {},
     "output_type": "execute_result"
    },
    {
     "data": {
      "image/png": "[encoded data removed]",
      "text/plain": [
       "<matplotlib.figure.Figure at 0x10d9c6e80>"
      ]
     },
     "metadata": {},
     "output_type": "display_data"
    }
   ],
   "source": [
    "tt.plot.bar()"
   ]
  },
  {
   "cell_type": "code",
   "execution_count": 30,
   "metadata": {},
   "outputs": [],
   "source": [
    "tu = sales_data[['product', 'units']].groupby('product').sum()"
   ]
  },
  {
   "cell_type": "code",
   "execution_count": 31,
   "metadata": {},
   "outputs": [
    {
     "data": {
      "text/plain": [
       "<matplotlib.axes._subplots.AxesSubplot at 0x10d993cf8>"
      ]
     },
     "execution_count": 31,
     "metadata": {},
     "output_type": "execute_result"
    },
    {
     "data": {
      "image/png": "[encoded data removed]",
      "text/plain": [
       "<matplotlib.figure.Figure at 0x10d4892b0>"
      ]
     },
     "metadata": {},
     "output_type": "display_data"
    }
   ],
   "source": [
    "tu.plot.bar()"
   ]
  },
  {
   "cell_type": "code",
   "execution_count": 33,
   "metadata": {},
   "outputs": [
    {
     "data": {
      "text/plain": [
       "<matplotlib.lines.Line2D at 0x10d2b1e10>"
      ]
     },
     "execution_count": 33,
     "metadata": {},
     "output_type": "execute_result"
    },
    {
     "data": {
      "image/png": "[encoded data removed]",
      "text/plain": [
       "<matplotlib.figure.Figure at 0x10d2a5748>"
      ]
     },
     "metadata": {},
     "output_type": "display_data"
    }
   ],
   "source": [
    "ax = tu.plot.bar()\n",
    "ax.axhline(tu['units'].median(), color='red', linestyle='-')"
   ]
  },
  {
   "cell_type": "code",
   "execution_count": 34,
   "metadata": {
    "collapsed": true
   },
   "outputs": [],
   "source": [
    "td  = sales_data[['orderdate', 'units']].groupby('orderdate').sum()"
   ]
  },
  {
   "cell_type": "code",
   "execution_count": 36,
   "metadata": {},
   "outputs": [
    {
     "data": {
      "text/plain": [
       "<matplotlib.axes._subplots.AxesSubplot at 0x10e4b50b8>"
      ]
     },
     "execution_count": 36,
     "metadata": {},
     "output_type": "execute_result"
    },
    {
     "data": {
      "image/png": "[encoded data removed]",
      "text/plain": [
       "<matplotlib.figure.Figure at 0x10e4a6320>"
      ]
     },
     "metadata": {},
     "output_type": "display_data"
    }
   ],
   "source": [
    "td['units'].plot()"
   ]
  },
  {
   "cell_type": "code",
   "execution_count": 37,
   "metadata": {},
   "outputs": [
    {
     "data": {
      "text/html": [
       "<div>\n",
       "<style>\n",
       "    .dataframe thead tr:only-child th {\n",
       "        text-align: right;\n",
       "    }\n",
       "\n",
       "    .dataframe thead th {\n",
       "        text-align: left;\n",
       "    }\n",
       "\n",
       "    .dataframe tbody tr th {\n",
       "        vertical-align: top;\n",
       "    }\n",
       "</style>\n",
       "<table border=\"1\" class=\"dataframe\">\n",
       "  <thead>\n",
       "    <tr style=\"text-align: right;\">\n",
       "      <th></th>\n",
       "      <th>birthday</th>\n",
       "      <th>customer</th>\n",
       "      <th>name</th>\n",
       "      <th>orderdate</th>\n",
       "      <th>product</th>\n",
       "      <th>unitprice</th>\n",
       "      <th>units</th>\n",
       "      <th>turnover</th>\n",
       "    </tr>\n",
       "    <tr>\n",
       "      <th>orderdate</th>\n",
       "      <th></th>\n",
       "      <th></th>\n",
       "      <th></th>\n",
       "      <th></th>\n",
       "      <th></th>\n",
       "      <th></th>\n",
       "      <th></th>\n",
       "      <th></th>\n",
       "    </tr>\n",
       "  </thead>\n",
       "  <tbody>\n",
       "    <tr>\n",
       "      <th>2016-07-17 13:48:03.156566</th>\n",
       "      <td>1967-09-02</td>\n",
       "      <td>Electronics Inc</td>\n",
       "      <td>Pasquale</td>\n",
       "      <td>2016-07-17 13:48:03.156566</td>\n",
       "      <td>Thriller record</td>\n",
       "      <td>13.27</td>\n",
       "      <td>2</td>\n",
       "      <td>26.54</td>\n",
       "    </tr>\n",
       "    <tr>\n",
       "      <th>2016-07-06 13:48:03.156596</th>\n",
       "      <td>1968-12-13</td>\n",
       "      <td>Electronics Resource Group</td>\n",
       "      <td>India</td>\n",
       "      <td>2016-07-06 13:48:03.156596</td>\n",
       "      <td>Corolla</td>\n",
       "      <td>24458.69</td>\n",
       "      <td>26</td>\n",
       "      <td>635925.94</td>\n",
       "    </tr>\n",
       "    <tr>\n",
       "      <th>2016-07-22 13:48:03.156618</th>\n",
       "      <td>1992-09-10</td>\n",
       "      <td>East Application Contract Inc</td>\n",
       "      <td>Wayne</td>\n",
       "      <td>2016-07-22 13:48:03.156618</td>\n",
       "      <td>Rubik’s Cube</td>\n",
       "      <td>15.79</td>\n",
       "      <td>41</td>\n",
       "      <td>647.39</td>\n",
       "    </tr>\n",
       "    <tr>\n",
       "      <th>2016-07-23 13:48:03.156638</th>\n",
       "      <td>1986-11-05</td>\n",
       "      <td>Signal Industries</td>\n",
       "      <td>Cori</td>\n",
       "      <td>2016-07-23 13:48:03.156638</td>\n",
       "      <td>iPhone</td>\n",
       "      <td>584.01</td>\n",
       "      <td>16</td>\n",
       "      <td>9344.16</td>\n",
       "    </tr>\n",
       "    <tr>\n",
       "      <th>2016-07-16 13:48:03.156657</th>\n",
       "      <td>1972-04-23</td>\n",
       "      <td>Star Alpha Industries</td>\n",
       "      <td>Chang</td>\n",
       "      <td>2016-07-16 13:48:03.156657</td>\n",
       "      <td>Harry Potter book</td>\n",
       "      <td>25.69</td>\n",
       "      <td>4</td>\n",
       "      <td>102.76</td>\n",
       "    </tr>\n",
       "  </tbody>\n",
       "</table>\n",
       "</div>"
      ],
      "text/plain": [
       "                             birthday                       customer  \\\n",
       "orderdate                                                              \n",
       "2016-07-17 13:48:03.156566 1967-09-02                Electronics Inc   \n",
       "2016-07-06 13:48:03.156596 1968-12-13     Electronics Resource Group   \n",
       "2016-07-22 13:48:03.156618 1992-09-10  East Application Contract Inc   \n",
       "2016-07-23 13:48:03.156638 1986-11-05              Signal Industries   \n",
       "2016-07-16 13:48:03.156657 1972-04-23          Star Alpha Industries   \n",
       "\n",
       "                                name                  orderdate  \\\n",
       "orderdate                                                         \n",
       "2016-07-17 13:48:03.156566  Pasquale 2016-07-17 13:48:03.156566   \n",
       "2016-07-06 13:48:03.156596     India 2016-07-06 13:48:03.156596   \n",
       "2016-07-22 13:48:03.156618     Wayne 2016-07-22 13:48:03.156618   \n",
       "2016-07-23 13:48:03.156638      Cori 2016-07-23 13:48:03.156638   \n",
       "2016-07-16 13:48:03.156657     Chang 2016-07-16 13:48:03.156657   \n",
       "\n",
       "                                      product  unitprice  units   turnover  \n",
       "orderdate                                                                   \n",
       "2016-07-17 13:48:03.156566    Thriller record      13.27      2      26.54  \n",
       "2016-07-06 13:48:03.156596            Corolla   24458.69     26  635925.94  \n",
       "2016-07-22 13:48:03.156618       Rubik’s Cube      15.79     41     647.39  \n",
       "2016-07-23 13:48:03.156638             iPhone     584.01     16    9344.16  \n",
       "2016-07-16 13:48:03.156657  Harry Potter book      25.69      4     102.76  "
      ]
     },
     "execution_count": 37,
     "metadata": {},
     "output_type": "execute_result"
    }
   ],
   "source": [
    "sales_data.index = sales_data['orderdate']\n",
    "sales_data.head()"
   ]
  },
  {
   "cell_type": "code",
   "execution_count": 49,
   "metadata": {},
   "outputs": [
    {
     "data": {
      "text/plain": [
       "<matplotlib.axes._subplots.AxesSubplot at 0x10f01d940>"
      ]
     },
     "execution_count": 49,
     "metadata": {},
     "output_type": "execute_result"
    },
    {
     "data": {
      "image/png": "[encoded data removed]",
      "text/plain": [
       "<matplotlib.figure.Figure at 0x10f01d160>"
      ]
     },
     "metadata": {},
     "output_type": "display_data"
    }
   ],
   "source": [
    "tdi  = sales_data.groupby([sales_data.index.year, sales_data.index.week]).sum()\n",
    "tdi['turnover'].plot.bar()"
   ]
  },
  {
   "cell_type": "code",
   "execution_count": 50,
   "metadata": {},
   "outputs": [
    {
     "data": {
      "text/plain": [
       "<matplotlib.axes._subplots.AxesSubplot at 0x10f0c0860>"
      ]
     },
     "execution_count": 50,
     "metadata": {},
     "output_type": "execute_result"
    },
    {
     "data": {
      "image/png": "[encoded data removed]",
      "text/plain": [
       "<matplotlib.figure.Figure at 0x10f0ac390>"
      ]
     },
     "metadata": {},
     "output_type": "display_data"
    }
   ],
   "source": [
    "tdi  = sales_data.groupby([sales_data.index.weekday_name]).sum()\n",
    "tdi['turnover'].plot.pie()"
   ]
  },
  {
   "cell_type": "code",
   "execution_count": null,
   "metadata": {
    "collapsed": true
   },
   "outputs": [],
   "source": []
  }
 ],
 "metadata": {
  "kernelspec": {
   "display_name": "Python 3",
   "language": "python",
   "name": "python3"
  },
  "language_info": {
   "codemirror_mode": {
    "name": "ipython",
    "version": 3
   },
   "file_extension": ".py",
   "mimetype": "text/x-python",
   "name": "python",
   "nbconvert_exporter": "python",
   "pygments_lexer": "ipython3",
   "version": "3.6.1"
  }
 },
 "nbformat": 4,
 "nbformat_minor": 2
}
